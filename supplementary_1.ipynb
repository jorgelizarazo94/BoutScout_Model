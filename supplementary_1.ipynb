{
 "cells": [
  {
   "metadata": {},
   "cell_type": "markdown",
   "source": [
    "# Supplementary 1 - Dataset Preparation and Initial Modeling\n",
    "**\"BoutScout: A Deep Learning Framework for Automatic Detection of Incubation Events in Avian Nests Using Temperature Time Series\" **\n",
    "\n",
    "Author: Jorge Lizarazo\n",
    "\n",
    "We detail here the final steps in preparing the incubation dataset and the construction of an initial exploratory model using an 80/20 train-test split. These procedures mark the transition between data curation and early modeling, allowing us to test model structure, depth, and core hyperparameters before advancing to more rigorous cross-validation. This phase is not meant to produce a production-ready model, but rather to explore architectural decisions such as the number of BiLSTM layers, hidden dimensions, and learning rate. Results from this stage inform decisions used in Supplementary 2, where cross-validation and full retraining are performed.\n",
    "\n",
    "**Year:** 2025"
   ],
   "id": "aae7a8fc8ea81654"
  },
  {
   "metadata": {},
   "cell_type": "markdown",
   "source": "## Final Dataset Assembly and Cleaning",
   "id": "9a5e138140f12f8b"
  },
  {
   "cell_type": "code",
   "id": "initial_id",
   "metadata": {
    "collapsed": true,
    "ExecuteTime": {
     "end_time": "2025-06-14T13:45:31.633138Z",
     "start_time": "2025-06-14T13:45:31.616855Z"
    }
   },
   "source": [
    "import numpy as np\n",
    "import glob\n",
    "import os\n",
    "import pandas as pd\n",
    "import json\n",
    "import ast\n",
    "#\n",
    "import matplotlib.pyplot as plt\n",
    "import random\n",
    "from sklearn.preprocessing import LabelEncoder"
   ],
   "outputs": [],
   "execution_count": 1
  },
  {
   "metadata": {},
   "cell_type": "markdown",
   "source": "**File loading:** The files annotated by three different team members (`Pamela López`, `Mariana Torres`, and `Lizarazo`) are loaded using pandas.",
   "id": "6a8ee76943e65156"
  },
  {
   "metadata": {
    "ExecuteTime": {
     "end_time": "2025-06-14T15:57:32.503219Z",
     "start_time": "2025-06-14T15:57:32.490577Z"
    }
   },
   "cell_type": "code",
   "source": [
    "file_names = [\n",
    "    \"G:/Thesis/pre_processing/Etiquetados_JL.csv\",\n",
    "    \"G:/Thesis/pre_processing/Etiquetados_mariana.csv\",\n",
    "    \"G:/Thesis/pre_processing/Etiquetados_pame.csv\"\n",
    "]"
   ],
   "id": "8d47781e667337ec",
   "outputs": [],
   "execution_count": 1
  },
  {
   "metadata": {},
   "cell_type": "code",
   "outputs": [],
   "execution_count": null,
   "source": [
    "list_of_dfs = []\n",
    "for file_name in file_names:\n",
    "    try:\n",
    "        df = pd.read_csv(file_name, index_col=0, parse_dates=['date'])\n",
    "        list_of_dfs.append(df)\n",
    "    except FileNotFoundError:\n",
    "        print(f\"Advertencia: Archivo no encontrado: {file_name}\")\n",
    "    except Exception as e:\n",
    "        print(f\"Error al leer {file_name}: {e}\")"
   ],
   "id": "bfa3fec339d386a9"
  },
  {
   "metadata": {},
   "cell_type": "code",
   "outputs": [],
   "execution_count": null,
   "source": [
    "if list_of_dfs:\n",
    "    df_bloques_etiquetados = pd.concat(list_of_dfs, ignore_index=True)\n",
    "\n",
    "    # 4. Mostrar información básica del DataFrame combinado\n",
    "    print(\"--- DataFrame Combinado ---\")\n",
    "    print(f\"Shape: {df_bloques_etiquetados.shape}\")\n",
    "    print(\"\\nPrimeras filas:\")\n",
    "    print(df_bloques_etiquetados.head())\n",
    "else:\n",
    "    print(\"No se cargaron DataFrames para combinar. ocho ahi crack\")"
   ],
   "id": "960659c8e18058a0"
  },
  {
   "metadata": {},
   "cell_type": "code",
   "outputs": [],
   "execution_count": null,
   "source": "print(df_bloques_etiquetados)",
   "id": "2f1e8d5d2935a4a0"
  },
  {
   "metadata": {},
   "cell_type": "code",
   "outputs": [],
   "execution_count": null,
   "source": [
    "X_list = []\n",
    "y_list = []\n",
    "\n",
    "# Codificador para etiquetas\n",
    "le = LabelEncoder()\n",
    "le.fit(df_bloques_etiquetados['label'])"
   ],
   "id": "af5ad4436c0f64d2"
  },
  {
   "metadata": {},
   "cell_type": "code",
   "outputs": [],
   "execution_count": null,
   "source": [
    "for (archivo, fecha), bloque in df_bloques_etiquetados.groupby(['archivo_origen', 'fecha']):\n",
    "    bloque = bloque.sort_values('date')  # Asegurar orden temporal\n",
    "\n",
    "    # Entrada: variables numéricas\n",
    "    X = bloque[['tempe', 'ambient', 'hour_sin']].values\n",
    "\n",
    "    # Salida: etiquetas codificadas como números\n",
    "    y = le.transform(bloque['label'].values)\n",
    "\n",
    "    X_list.append(X)\n",
    "    y_list.append(y)\n",
    "\n",
    "# Convertir a arrays finales\n",
    "X_array = np.array(X_list, dtype=object)  # cada elemento es un bloque (array 2D)\n",
    "y_array = np.array(y_list, dtype=object)  # cada elemento es un array de etiquetas"
   ],
   "id": "cb2c722d702f18ac"
  },
  {
   "metadata": {},
   "cell_type": "code",
   "outputs": [],
   "execution_count": null,
   "source": "print(X_array.shape, y_array.shape)",
   "id": "f125445c4beae296"
  },
  {
   "metadata": {},
   "cell_type": "code",
   "outputs": [],
   "execution_count": null,
   "source": [
    "print(X_array[0].shape)  # por ejemplo (1440, 3) si el día tiene datos cada minuto\n",
    "print(y_array[0])        # etiquetas numéricas del primer día\n",
    "print(le.classes_)       # ['Error' 'Nocturnal' 'Off' 'On']"
   ],
   "id": "1774af6354c8942d"
  },
  {
   "metadata": {},
   "cell_type": "code",
   "outputs": [],
   "execution_count": null,
   "source": [
    "import torch\n",
    "print(torch.__version__)\n",
    "print(torch.cuda.is_available())  # Debe decir False si usas CPU"
   ],
   "id": "7a5f41898385c075"
  },
  {
   "metadata": {},
   "cell_type": "code",
   "outputs": [],
   "execution_count": null,
   "source": [
    "i = random.randint(0, len(X_array) - 1)\n",
    "X = X_array[i]\n",
    "y = y_array[i]\n",
    "labels = le.inverse_transform(y)  # etiquetas originales\n",
    "\n",
    "# Crear el gráfico\n",
    "plt.figure(figsize=(14, 5))\n",
    "colors = {\n",
    "    'On': '#E28342',\n",
    "    'Off': '#535AA6',\n",
    "    'Nocturnal': '#333E48',\n",
    "    'Error': 'red'\n",
    "}\n",
    "\n",
    "# Graficar los puntos con color según la etiqueta\n",
    "for label in np.unique(labels):\n",
    "    mask = labels == label\n",
    "    plt.scatter(np.arange(len(X))[mask], X[mask, 0], label=label, color=colors[label], s=10)\n",
    "\n",
    "#plt.title(f\"Day {i}\", fontsize=10)\n",
    "plt.xlabel(\"Minute of the Day\", fontsize=16)\n",
    "plt.ylabel(\"Temperature (°C)\", fontsize=16)\n",
    "plt.xticks(fontsize=12)\n",
    "plt.yticks(fontsize=12)\n",
    "plt.legend(title=\"Labels\", loc='lower left', fontsize=12, title_fontsize=15)\n",
    "plt.tight_layout()\n",
    "plt.show()"
   ],
   "id": "a21109c01e79aad4"
  }
 ],
 "metadata": {
  "kernelspec": {
   "display_name": "Python 3",
   "language": "python",
   "name": "python3"
  },
  "language_info": {
   "codemirror_mode": {
    "name": "ipython",
    "version": 2
   },
   "file_extension": ".py",
   "mimetype": "text/x-python",
   "name": "python",
   "nbconvert_exporter": "python",
   "pygments_lexer": "ipython2",
   "version": "2.7.6"
  }
 },
 "nbformat": 4,
 "nbformat_minor": 5
}

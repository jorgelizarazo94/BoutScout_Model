{
 "cells": [
  {
   "metadata": {},
   "cell_type": "markdown",
   "source": [
    "<img src=\"assets/logo.png\" width=\"300px\">\n",
    "\n",
    "# Supplementary 2 -\n",
    "**BoutScout: A Deep Learning Framework for Automatic Detection of Incubation Events in Avian Nests Using Temperature Time Series**\n",
    "\n",
    "Author: [Jorge Lizarazo](https://www.researchgate.net/profile/Jorge-Lizarazo-Borrero?ev=hdr_xprf)\n",
    "\n",
    "\n"
   ],
   "id": "c1eb9bead16e19ac"
  },
  {
   "metadata": {
    "ExecuteTime": {
     "end_time": "2025-06-15T01:06:43.496004Z",
     "start_time": "2025-06-15T01:06:43.475705Z"
    }
   },
   "cell_type": "code",
   "source": [
    "import numpy as np\n",
    "import glob\n",
    "import os\n",
    "import pandas as pd\n",
    "import json\n",
    "import ast\n",
    "import torch.nn as nn\n",
    "import matplotlib.pyplot as plt\n",
    "import random\n",
    "from sklearn.preprocessing import LabelEncoder\n",
    "from torch.utils.data import Dataset, DataLoader\n",
    "import torch\n",
    "import torch.optim as optim"
   ],
   "id": "3deec47109d6f219",
   "outputs": [],
   "execution_count": 40
  },
  {
   "metadata": {
    "ExecuteTime": {
     "end_time": "2025-06-15T01:08:50.966192Z",
     "start_time": "2025-06-15T01:08:50.950568Z"
    }
   },
   "cell_type": "code",
   "source": [
    "#print(torch.__version__)\n",
    "#print(torch.cuda.is_available())\n",
    "#print(torch.cuda.get_device_name(0) if torch.cuda.is_available() else \"No GPU detected\")"
   ],
   "id": "3f5a73f9f1896670",
   "outputs": [],
   "execution_count": 42
  },
  {
   "metadata": {
    "ExecuteTime": {
     "end_time": "2025-06-15T01:08:55.458835Z",
     "start_time": "2025-06-15T01:08:55.347793Z"
    }
   },
   "cell_type": "code",
   "source": [
    "# Cargar arrays\n",
    "X_array = np.load(\"X_array_cleaned.npy\", allow_pickle=True)\n",
    "y_array = np.load(\"y_array_cleaned.npy\", allow_pickle=True)\n",
    "\n",
    "# Cargar clases del LabelEncoder\n",
    "le = LabelEncoder()\n",
    "le.classes_ = np.load(\"label_classes.npy\", allow_pickle=True)\n",
    "\n",
    "# Definir Dataset\n",
    "class NestEventDataset(Dataset):\n",
    "    def __init__(self, X_array, y_array):\n",
    "        self.X_array = X_array\n",
    "        self.y_array = y_array\n",
    "\n",
    "    def __len__(self):\n",
    "        return len(self.X_array)\n",
    "\n",
    "    def __getitem__(self, idx):\n",
    "        X = self.X_array[idx].astype(np.float32)\n",
    "        y = self.y_array[idx].astype(np.int64)\n",
    "        return torch.tensor(X), torch.tensor(y)\n",
    "\n",
    "# Crear el dataset\n",
    "dataset = NestEventDataset(X_array, y_array)"
   ],
   "id": "864d93ae222db96a",
   "outputs": [],
   "execution_count": 43
  },
  {
   "metadata": {},
   "cell_type": "markdown",
   "source": "",
   "id": "107b582d1d547151"
  },
  {
   "metadata": {
    "ExecuteTime": {
     "end_time": "2025-06-15T01:08:57.027087Z",
     "start_time": "2025-06-15T01:08:57.004815Z"
    }
   },
   "cell_type": "code",
   "source": [
    "\n",
    "idx = random.randint(0, len(dataset) - 1)\n",
    "X_sample, y_sample = dataset[idx]\n",
    "X_np = X_sample.numpy()\n",
    "y_np = y_sample.numpy()"
   ],
   "id": "b5cd3b3c7ecd7e96",
   "outputs": [],
   "execution_count": 44
  },
  {
   "metadata": {
    "ExecuteTime": {
     "end_time": "2025-06-15T00:43:14.335716Z",
     "start_time": "2025-06-15T00:43:14.320076Z"
    }
   },
   "cell_type": "code",
   "source": "",
   "id": "36920e4d0b7c1026",
   "outputs": [],
   "execution_count": null
  },
  {
   "metadata": {
    "ExecuteTime": {
     "end_time": "2025-06-15T01:08:59.042508Z",
     "start_time": "2025-06-15T01:08:59.026669Z"
    }
   },
   "cell_type": "code",
   "source": "print(f\"Número total de días (entradas): {len(y_array)}\")",
   "id": "9de28afa4d308bbb",
   "outputs": [
    {
     "name": "stdout",
     "output_type": "stream",
     "text": [
      "Número total de días (entradas): 2232\n"
     ]
    }
   ],
   "execution_count": 45
  },
  {
   "metadata": {
    "ExecuteTime": {
     "end_time": "2025-06-15T01:09:00.442909Z",
     "start_time": "2025-06-15T01:09:00.427337Z"
    }
   },
   "cell_type": "code",
   "source": [
    "idx = random.randint(0, len(X_array) - 1)\n",
    "X_sample = X_array[idx].astype(np.float32)\n",
    "y_sample = y_array[idx].astype(np.int64)\n",
    "\n",
    "X_np = X_sample\n",
    "y_np = y_sample"
   ],
   "id": "1ee5389ad4350b36",
   "outputs": [],
   "execution_count": 46
  },
  {
   "metadata": {
    "ExecuteTime": {
     "end_time": "2025-06-15T01:09:00.961927Z",
     "start_time": "2025-06-15T01:09:00.945937Z"
    }
   },
   "cell_type": "code",
   "source": "y_np",
   "id": "dce6dfaeed4ac706",
   "outputs": [
    {
     "data": {
      "text/plain": [
       "array([0, 0, 0, ..., 0, 0, 0], dtype=int64)"
      ]
     },
     "execution_count": 47,
     "metadata": {},
     "output_type": "execute_result"
    }
   ],
   "execution_count": 47
  },
  {
   "metadata": {
    "ExecuteTime": {
     "end_time": "2025-06-15T01:09:02.105999Z",
     "start_time": "2025-06-15T01:09:02.090388Z"
    }
   },
   "cell_type": "code",
   "source": [
    "class BiLSTMModel(nn.Module):\n",
    "    def __init__(self, input_size, hidden_size, num_layers, num_classes):\n",
    "        super(BiLSTMModel, self).__init__()\n",
    "        self.lstm = nn.LSTM(\n",
    "            input_size=input_size,\n",
    "            hidden_size=hidden_size,\n",
    "            num_layers=num_layers,\n",
    "            batch_first=True,\n",
    "            bidirectional=True\n",
    "        )\n",
    "        self.fc = nn.Linear(hidden_size * 2, num_classes)\n",
    "\n",
    "    def forward(self, x):\n",
    "        lstm_out, _ = self.lstm(x)\n",
    "        out = self.fc(lstm_out)\n",
    "        return out"
   ],
   "id": "8b9ccc62d6cd5e6d",
   "outputs": [],
   "execution_count": 48
  },
  {
   "metadata": {
    "ExecuteTime": {
     "end_time": "2025-06-15T01:09:03.431284Z",
     "start_time": "2025-06-15T01:09:03.415611Z"
    }
   },
   "cell_type": "code",
   "source": [
    "input_size = X_array[0].shape[1]  # número de features por minuto (ej: temperatura, ambiente, etc.)\n",
    "hidden_size = 64\n",
    "num_layers = 2\n",
    "num_classes = 3  # ['Error', 'Nocturnal', 'Off', 'On'], aunque eliminaste \"Error\", mantenemos por consistencia\n",
    "\n",
    "model = BiLSTMModel(input_size, hidden_size, num_layers, num_classes)"
   ],
   "id": "ae05ac5e0e80ae3b",
   "outputs": [],
   "execution_count": 49
  },
  {
   "metadata": {
    "ExecuteTime": {
     "end_time": "2025-06-15T01:09:10.564978Z",
     "start_time": "2025-06-15T01:09:10.533775Z"
    }
   },
   "cell_type": "code",
   "source": "",
   "id": "7972803c5b1ba10d",
   "outputs": [],
   "execution_count": null
  },
  {
   "metadata": {
    "ExecuteTime": {
     "end_time": "2025-06-15T01:04:23.981995Z",
     "start_time": "2025-06-15T01:04:23.966402Z"
    }
   },
   "cell_type": "code",
   "source": "",
   "id": "51dbac04237a3016",
   "outputs": [],
   "execution_count": null
  },
  {
   "metadata": {
    "ExecuteTime": {
     "end_time": "2025-06-15T01:09:12.749315Z",
     "start_time": "2025-06-15T01:09:12.724577Z"
    }
   },
   "cell_type": "code",
   "source": [
    "device = torch.device(\"cuda\" if torch.cuda.is_available() else \"cpu\")\n",
    "model = model.to(device)\n",
    "\n",
    "criterion = nn.CrossEntropyLoss()\n",
    "optimizer = optim.Adam(model.parameters(), lr=0.001)"
   ],
   "id": "f2d4252e58c43d1e",
   "outputs": [],
   "execution_count": 51
  },
  {
   "metadata": {
    "ExecuteTime": {
     "end_time": "2025-06-15T01:09:14.218801Z",
     "start_time": "2025-06-15T01:09:14.203246Z"
    }
   },
   "cell_type": "code",
   "source": [
    "from sklearn.model_selection import StratifiedKFold\n",
    "\n",
    "import torch.nn as nn\n",
    "from sklearn.metrics import confusion_matrix, ConfusionMatrixDisplay, precision_recall_curve, average_precision_score\n",
    "from sklearn.metrics import classification_report\n",
    "import os"
   ],
   "id": "c5cb6055b989535c",
   "outputs": [],
   "execution_count": 52
  },
  {
   "metadata": {
    "ExecuteTime": {
     "end_time": "2025-06-15T01:09:16.623090Z",
     "start_time": "2025-06-15T01:09:16.607614Z"
    }
   },
   "cell_type": "code",
   "source": [
    "os.makedirs(\"figures/confusion_matrices\", exist_ok=True)\n",
    "os.makedirs(\"figures/precision_recall\", exist_ok=True)\n",
    "os.makedirs(\"figures/loss_curves\", exist_ok=True)"
   ],
   "id": "abc86971fed1aeb4",
   "outputs": [],
   "execution_count": 53
  },
  {
   "metadata": {
    "ExecuteTime": {
     "end_time": "2025-06-15T01:09:18.387769Z",
     "start_time": "2025-06-15T01:09:18.359284Z"
    }
   },
   "cell_type": "code",
   "source": [
    "# Etiqueta por día dominante\n",
    "# Crear carpetas de salida si no existen\n",
    "os.makedirs(\"resultados_folds\", exist_ok=True)\n",
    "os.makedirs(\"modelos_folds\", exist_ok=True)\n",
    "\n",
    "mejor_f1 = 0\n",
    "mejor_fold = -1\n",
    "y_mode = [np.bincount(y).argmax() for y in y_array]\n",
    "\n",
    "\n",
    "skf = StratifiedKFold(n_splits=5, shuffle=True, random_state=42)\n",
    "fold_scores = []\n",
    "ruta_mejor_modelo = \"modelos/modelo_bilstm_cv_mejor_cross.pth\""
   ],
   "id": "1748df4ed1dce30",
   "outputs": [],
   "execution_count": 54
  },
  {
   "metadata": {
    "jupyter": {
     "is_executing": true
    },
    "ExecuteTime": {
     "start_time": "2025-06-15T01:09:23.363557Z"
    }
   },
   "cell_type": "code",
   "source": [
    "for fold, (train_idx, val_idx) in enumerate(skf.split(X_array, y_mode), 1):\n",
    "    print(f\"\\n=== Fold {fold}/5 ===\")\n",
    "\n",
    "    X_train = [X_array[i] for i in train_idx]\n",
    "    y_train = [y_array[i] for i in train_idx]\n",
    "    X_val = [X_array[i] for i in val_idx]\n",
    "    y_val = [y_array[i] for i in val_idx]\n",
    "\n",
    "    train_ds = NestEventDataset(X_train, y_train)\n",
    "    val_ds = NestEventDataset(X_val, y_val)\n",
    "\n",
    "    train_loader = DataLoader(train_ds, batch_size=16, shuffle=True)\n",
    "    val_loader = DataLoader(val_ds, batch_size=16, shuffle=False)\n",
    "\n",
    "    model = BiLSTMModel(input_size=X_array[0].shape[1], hidden_size=64, num_layers=2, num_classes=3).to(device)\n",
    "    optimizer = optim.Adam(model.parameters(), lr=0.001)\n",
    "    criterion = nn.CrossEntropyLoss()\n",
    "    train_losses = []\n",
    "\n",
    "    for epoch in range(50):\n",
    "        model.train()\n",
    "        for X_batch, y_batch in train_loader:\n",
    "            X_batch, y_batch = X_batch.to(device), y_batch.to(device)\n",
    "            optimizer.zero_grad()\n",
    "            outputs = model(X_batch)\n",
    "            loss = criterion(outputs.view(-1, outputs.shape[-1]), y_batch.view(-1))\n",
    "            loss.backward()\n",
    "            train_losses.append(loss.item())\n",
    "            optimizer.step()\n",
    "\n",
    "    # Evaluación\n",
    "    model.eval()\n",
    "    all_preds, all_labels = [], []\n",
    "    with torch.no_grad():\n",
    "        for X_batch, y_batch in val_loader:\n",
    "            X_batch = X_batch.to(device)\n",
    "            outputs = model(X_batch)\n",
    "            preds = torch.argmax(outputs, dim=2).view(-1).cpu().numpy()\n",
    "            labels = y_batch.view(-1).cpu().numpy()\n",
    "            all_preds.extend(preds)\n",
    "            all_labels.extend(labels)\n",
    "\n",
    "        np.save(f\"resultados_folds/fold_{fold}_train_losses.npy\", np.array(train_losses))\n",
    "        np.save(f\"resultados_folds/fold_{fold}_labels.npy\", np.array(all_labels))\n",
    "        np.save(f\"resultados_folds/fold_{fold}_preds.npy\", np.array(all_preds))\n",
    "\n",
    "    report = classification_report(all_labels, all_preds, target_names=['Nocturnal', 'Off', 'On'], zero_division=0, output_dict=True)\n",
    "    f1_macro = report['macro avg']['f1-score']\n",
    "    fold_scores.append(f1_macro)\n",
    "\n",
    "    print(f\"F1 macro (fold {fold}): {f1_macro:.4f}\")\n",
    "\n",
    "    # === Guardar resultados y modelo de este fold ===\n",
    "    with open(f\"resultados_folds/fold_{fold}_reporte.json\", \"w\") as f:\n",
    "        json.dump(report, f, indent=4)\n",
    "\n",
    "    torch.save(model.state_dict(), f\"modelos_folds/modelo_fold_{fold}.pth\")\n",
    "\n",
    "    if f1_macro > mejor_f1:\n",
    "        mejor_f1 = f1_macro\n",
    "        mejor_fold = fold\n",
    "        torch.save(model.state_dict(), ruta_mejor_modelo)\n",
    "        print(f\"✅ Guardado mejor modelo (F1: {mejor_f1:.4f}) en fold {mejor_fold}\")\n",
    "\n",
    "print(f\"\\n=== Promedio F1 macro en validación cruzada: {np.mean(fold_scores):.4f} ===\")\n",
    "print(f\"🏆 Mejor modelo guardado fue del fold {mejor_fold} con F1 macro = {mejor_f1:.4f}\")"
   ],
   "id": "562b1c89256608b9",
   "outputs": [
    {
     "name": "stdout",
     "output_type": "stream",
     "text": [
      "\n",
      "=== Fold 1/5 ===\n"
     ]
    }
   ],
   "execution_count": null
  },
  {
   "metadata": {},
   "cell_type": "code",
   "outputs": [],
   "execution_count": null,
   "source": "",
   "id": "58f07f0ba62057d1"
  }
 ],
 "metadata": {
  "kernelspec": {
   "display_name": "Python 3",
   "language": "python",
   "name": "python3"
  },
  "language_info": {
   "codemirror_mode": {
    "name": "ipython",
    "version": 2
   },
   "file_extension": ".py",
   "mimetype": "text/x-python",
   "name": "python",
   "nbconvert_exporter": "python",
   "pygments_lexer": "ipython2",
   "version": "2.7.6"
  }
 },
 "nbformat": 4,
 "nbformat_minor": 5
}
